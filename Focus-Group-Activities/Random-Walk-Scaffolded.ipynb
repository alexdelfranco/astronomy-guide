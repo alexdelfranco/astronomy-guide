{
 "cells": [
  {
   "cell_type": "markdown",
   "id": "61e49055",
   "metadata": {},
   "source": [
    "# Python Scaffolded Activity"
   ]
  },
  {
   "cell_type": "markdown",
   "id": "bbcfed19",
   "metadata": {},
   "source": [
    "## Model Setup"
   ]
  },
  {
   "cell_type": "code",
   "execution_count": null,
   "id": "53dfc150-8475-4b0e-a50f-9d8a79b4a547",
   "metadata": {},
   "outputs": [],
   "source": [
    "%%capture\n",
    "!pip install ipympl\n",
    "%matplotlib widget\n",
    "import numpy as np\n",
    "import math as m\n",
    "import matplotlib.pyplot as plt"
   ]
  },
  {
   "cell_type": "code",
   "execution_count": null,
   "id": "5fadd12f",
   "metadata": {},
   "outputs": [],
   "source": [
    "from google.colab import output\n",
    "output.enable_custom_widget_manager()"
   ]
  },
  {
   "cell_type": "code",
   "execution_count": null,
   "id": "038d5213",
   "metadata": {},
   "outputs": [],
   "source": [
    "def plot(data):\n",
    "    plt.close()\n",
    "    # Unpack data\n",
    "    counter,x,y,R = data\n",
    "    # Plot the model\n",
    "    fig,ax = plt.subplots(1,1,figsize=(8,8))\n",
    "    ax.set_title('Step Count:' + str(counter))\n",
    "    ax.set_xlim(-R,R)\n",
    "    ax.set_ylim(-R,R)\n",
    "    ax.plot(x,y)\n",
    "    # ax.plot([0,x[-1]],[0,y[-1]])\n",
    "    ax.add_patch(plt.Circle((0,0),R,fill=False,color='dodgerblue',linewidth=2))"
   ]
  },
  {
   "cell_type": "code",
   "execution_count": null,
   "id": "8e9b6ef6-a6e3-4e57-9180-ed146be5222d",
   "metadata": {},
   "outputs": [],
   "source": [
    "def model(radius,step_length=None,opacity=None,density=None):\n",
    "    X = 0\n",
    "    Y = 0\n",
    "    X_list = []\n",
    "    Y_list = []\n",
    "    counter = 0\n",
    "    # Check to see if no extra inputs are given\n",
    "    if opacity == None and density == None and step_length == None:\n",
    "        step_length = 1\n",
    "    # If only a step length is specified, do nothing\n",
    "    elif opacity == None and density == None and (type(step_length) == int or type(step_length) == float):\n",
    "        pass\n",
    "    # If a density and opacity are specified with no step length, calculate step length\n",
    "    elif step_length == None and (type(opacity) == int or type(opacity) == float) and (type(density) == int or type(density) == float):\n",
    "        step_length = 1 / (density * opacity)\n",
    "    # If neither combination of inputs work, print an error message and return\n",
    "    else:\n",
    "        print('Invalid model input: Please specify either a step length, or a density and opacity.')\n",
    "        return\n",
    "    \n",
    "    step_length = 1 # 1 / (opacity * density)\n",
    "    while m.sqrt(X**2 + Y**2) < radius:\n",
    "        angle = 2 * np.pi * np.random.random()\n",
    "        X_list.append(X)\n",
    "        Y_list.append(Y)\n",
    "        X = X + step_length * m.cos(angle)\n",
    "        Y = Y + step_length * m.sin(angle)\n",
    "        counter += 1\n",
    "    return(counter,X_list,Y_list,radius)"
   ]
  },
  {
   "cell_type": "markdown",
   "id": "e81e075a",
   "metadata": {},
   "source": [
    "## Running The Model"
   ]
  },
  {
   "cell_type": "code",
   "execution_count": null,
   "id": "a3458436",
   "metadata": {},
   "outputs": [],
   "source": [
    "data = model(radius=100,step_length=1)\n",
    "plot(data)"
   ]
  }
 ],
 "metadata": {
  "kernelspec": {
   "display_name": "Python 3 (ipykernel)",
   "language": "python",
   "name": "python3"
  },
  "language_info": {
   "codemirror_mode": {
    "name": "ipython",
    "version": 3
   },
   "file_extension": ".py",
   "mimetype": "text/x-python",
   "name": "python",
   "nbconvert_exporter": "python",
   "pygments_lexer": "ipython3",
   "version": "3.11.4"
  }
 },
 "nbformat": 4,
 "nbformat_minor": 5
}
