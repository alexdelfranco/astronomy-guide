{
 "cells": [
  {
   "cell_type": "markdown",
   "id": "4c03f1ac",
   "metadata": {},
   "source": [
    "# Photon Escape Activity"
   ]
  },
  {
   "cell_type": "markdown",
   "id": "1149e027",
   "metadata": {},
   "source": [
    "#### Please enter your names: "
   ]
  },
  {
   "cell_type": "markdown",
   "id": "8188601b",
   "metadata": {},
   "source": [
    "## Imports"
   ]
  },
  {
   "cell_type": "code",
   "execution_count": null,
   "id": "53dfc150-8475-4b0e-a50f-9d8a79b4a547",
   "metadata": {},
   "outputs": [],
   "source": []
  },
  {
   "cell_type": "markdown",
   "id": "48418b67",
   "metadata": {},
   "source": [
    "## Model"
   ]
  },
  {
   "cell_type": "code",
   "execution_count": null,
   "id": "5f8ac931",
   "metadata": {},
   "outputs": [],
   "source": []
  },
  {
   "cell_type": "markdown",
   "id": "de71d3da",
   "metadata": {},
   "source": [
    "## Viewing"
   ]
  },
  {
   "cell_type": "code",
   "execution_count": null,
   "id": "541798bd-66f8-4af0-a1a2-696d39609bcb",
   "metadata": {},
   "outputs": [],
   "source": []
  }
 ],
 "metadata": {
  "kernelspec": {
   "display_name": "Python 3 (ipykernel)",
   "language": "python",
   "name": "python3"
  },
  "language_info": {
   "codemirror_mode": {
    "name": "ipython",
    "version": 3
   },
   "file_extension": ".py",
   "mimetype": "text/x-python",
   "name": "python",
   "nbconvert_exporter": "python",
   "pygments_lexer": "ipython3",
   "version": "3.11.4"
  }
 },
 "nbformat": 4,
 "nbformat_minor": 5
}
