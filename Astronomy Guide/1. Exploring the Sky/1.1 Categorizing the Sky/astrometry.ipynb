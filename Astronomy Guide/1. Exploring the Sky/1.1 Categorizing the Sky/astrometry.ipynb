{
 "cells": [
  {
   "cell_type": "markdown",
   "id": "b7965547-30a5-45df-ac2a-b39268508b72",
   "metadata": {},
   "source": [
    "# 1.1 Astrometry — Activity 2"
   ]
  },
  {
   "cell_type": "markdown",
   "id": "1da8c084-60dc-4dc8-9d1c-d5ac2beb7cb2",
   "metadata": {},
   "source": [
    "### Imports\n",
    "\n",
    "We start most Python notebooks by importing what are called packages. Packages are just prewritten code stored online that we can use to save us space and time here. For now, just run the cell and don't worry too much about what the import statements are saying. We will learn about them in the future!"
   ]
  },
  {
   "cell_type": "markdown",
   "id": "a1c29396-ffc0-4930-9256-cde63ebf3c21",
   "metadata": {},
   "source": [
    "In Python notebooks, code is run in ***cells***. To run a cell, either click on the play button in the upper left hand corner of the cell, or click anywhere in the cell and press Shift and Enter at the same time. Run the cell below!"
   ]
  },
  {
   "cell_type": "code",
   "execution_count": null,
   "id": "17789398-b02e-49f9-9f9a-9635d8709549",
   "metadata": {},
   "outputs": [],
   "source": [
    "import warnings\n",
    "import plotly.express as px\n",
    "import plotly.graph_objects as go\n",
    "import pandas as pd\n",
    "import numpy as np\n",
    "import astropy.io.fits as fits\n",
    "from astropy.wcs import WCS\n",
    "warnings.filterwarnings('ignore','The WCS transformation')"
   ]
  },
  {
   "cell_type": "markdown",
   "id": "985b2d6c-bfe3-4cd9-8a13-3c1ae5248b50",
   "metadata": {},
   "source": [
    "### Getting our Data"
   ]
  },
  {
   "cell_type": "markdown",
   "id": "3f7bbf5b-7d99-4b43-b155-a9009649a47d",
   "metadata": {},
   "source": [
    "Before we can look at cool images, we need to get our data. Thankfully, astrometry.net has us covered. Go back to your completed job page. On the right, you should see a panel called Calibration. On that panel you should see a list of coordinates (in RA and Dec) and a bunch of linked files. We are going to use three of those: `wcs.fits`, `new-image.fits`, and `axy.fits`."
   ]
  },
  {
   "cell_type": "markdown",
   "id": "7075a002-5d55-49f9-8232-7f07874ea84b",
   "metadata": {},
   "source": [
    "One by one, right click on each of those file links and copy the link to them. Then paste the links between the quotes in the cell below. Make sure that each linked file corresponds to the right variable name!\n",
    "\n",
    "When you are done entering your links, run the cell! Then run the cell below to retrieve the necessary data."
   ]
  },
  {
   "cell_type": "code",
   "execution_count": null,
   "id": "caa725d1-49b9-48e1-88b6-c6a1bde0c369",
   "metadata": {},
   "outputs": [],
   "source": [
    "# Enter your file links below\n",
    "\n",
    "wcs = \"\"\n",
    "new_image = \"\"\n",
    "axy = \"\""
   ]
  },
  {
   "cell_type": "code",
   "execution_count": null,
   "id": "bf78e17f-b433-4bd9-a3f1-00601bd400d7",
   "metadata": {},
   "outputs": [],
   "source": [
    "# Retrieve necessary data\n",
    "\n",
    "img = fits.open(new_image)[0].data\n",
    "stars = pd.DataFrame(fits.open(axy)[1].data)\n",
    "w = WCS(fits.open(wcs)[0].header)\n",
    "sky = w.pixel_to_world(stars['X'], stars['Y'])\n",
    "stars['RA'] = sky.ra.degree; stars['DEC'] = sky.dec.degree"
   ]
  },
  {
   "cell_type": "markdown",
   "id": "d85c34d5-22a8-4955-83e4-f8f6a50cd198",
   "metadata": {},
   "source": [
    "### Plotting!"
   ]
  },
  {
   "cell_type": "markdown",
   "id": "973bafaa-1ee7-4f60-af4f-c24e890a046d",
   "metadata": {},
   "source": [
    "Now we can finally make our plot. We first print our Hubble image. Then astrometry.net is able to using complex code to determine the locations of all the brightest stars in our image. We can then take those coordinates and plot them on top of the Hubble image!\n",
    "\n",
    "Run the cell below. Look at all the circled stars! Now hover over some of them. What do you see? What are the ranges of RA and Dec visible in the image? Do the brightness values make sense?\n",
    "\n",
    "*(Hint: You can highlight an area on the image to zoom in, and you can double click the image to return to the original zoom.)*"
   ]
  },
  {
   "cell_type": "code",
   "execution_count": null,
   "id": "182489f0-f97f-4320-9243-f545fac06752",
   "metadata": {},
   "outputs": [],
   "source": [
    "# Make your plot\n",
    "\n",
    "fig = px.imshow(np.dstack(img),width=800, height=600)\n",
    "fig.add_trace(go.Scatter(x=stars['X'],y=stars['Y'], mode='markers',customdata=stars, \\\n",
    "                         hovertemplate=\"<b>RA</b>: %{customdata[4]:.4f}<br><b>DEC</b>: %{customdata[5]:.4f}<br><b>Brightness</b>: \\\n",
    "                         %{customdata[2]:.0f}<extra></extra>\", marker=dict(size=8,color='Green',symbol='circle-open',line=dict(width=1.5))))\n",
    "fig.update_layout(xaxis_range=[0,1270],yaxis_range=[0,956])\n",
    "fig.show()"
   ]
  }
 ],
 "metadata": {
  "kernelspec": {
   "display_name": "Python 3 (ipykernel)",
   "language": "python",
   "name": "python3"
  },
  "language_info": {
   "codemirror_mode": {
    "name": "ipython",
    "version": 3
   },
   "file_extension": ".py",
   "mimetype": "text/x-python",
   "name": "python",
   "nbconvert_exporter": "python",
   "pygments_lexer": "ipython3",
   "version": "3.11.4"
  }
 },
 "nbformat": 4,
 "nbformat_minor": 5
}
