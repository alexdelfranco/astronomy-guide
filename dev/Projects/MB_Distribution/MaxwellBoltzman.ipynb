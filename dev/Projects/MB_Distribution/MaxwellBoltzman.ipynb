{
 "cells": [
  {
   "cell_type": "markdown",
   "id": "a7bf3056-6454-4aaf-ac37-5dddd2f6faf9",
   "metadata": {},
   "source": [
    "m * vi1 + m * vi2 = m * vf1 + m * vf2\n",
    "\n",
    "vi1 + vi2 = vf1 + vf2"
   ]
  },
  {
   "cell_type": "markdown",
   "id": "168ff97e-7f25-4ada-97d6-9a3d75cc1638",
   "metadata": {},
   "source": [
    "vi1 **2 + vi2 **2 = vf1 **2 + vf2 **2"
   ]
  },
  {
   "cell_type": "markdown",
   "id": "5d0dc77f-0c6c-4144-91e9-ca3db72c8b92",
   "metadata": {},
   "source": [
    "vi1 + vi2 - vf1 = vf2\n",
    "\n",
    "vi1 **2 + vi2 **2 - (vi1 + vi2 - vf1) **2 = vf1 **2"
   ]
  },
  {
   "cell_type": "markdown",
   "id": "c8916158-2822-4dae-a4da-562dabc34e0c",
   "metadata": {},
   "source": [
    "(vi1 + vi2 - vf1) **2 = (vi1 + vi2)^2 - 2(vi1 + vi2)vf1 + vf1^2 = vi1^2 + 2vi1vi2 + vi2^2 - 2(vi1 + vi2)vf1 + vf1^2"
   ]
  },
  {
   "cell_type": "code",
   "execution_count": null,
   "id": "6e70e180-b491-4490-b7d3-3f9bb0c06368",
   "metadata": {},
   "outputs": [],
   "source": [
    "vi1 **2 + vi2 **2 - (vi1^2 + 2vi1vi2 + vi2^2 - 2(vi1 + vi2)vf1 + vf1^2) = vf1 **2\n",
    "\n",
    "vi1 **2 + vi2 **2 - vi1^2 - 2vi1vi2 - vi2^2 + 2(vi1 + vi2)vf1 - vf1^2) = vf1 **2\n",
    "\n",
    "(2vi1 + 2vi2)vf1 - 2vi1vi2 = 2(vf1^2)\n",
    "\n",
    "- vi1vi2 = vf1^2 - (vi1 + vi2)vf1 + (vi1 + vi2)^2 - (vi1 + vi2)^2\n",
    "\n",
    "vi1^2 + vi1vi2 + vi2^2 = [vf1 - (vi1 + vi2)]^2\n",
    "\n",
    "vf1 = sqrt(vi1^2 + vi1vi2 + vi2^2) + (vi1 + vi2)"
   ]
  },
  {
   "cell_type": "code",
   "execution_count": null,
   "id": "f2ce1fe2-4d07-4b36-add9-356341fc7b28",
   "metadata": {},
   "outputs": [],
   "source": [
    "vf1 = sqrt(vi1^2 + vi1vi2 + vi2^2) + (vi1 + vi2)\n",
    "\n",
    "vf2 = vi1 + vi2 - vf1"
   ]
  },
  {
   "cell_type": "code",
   "execution_count": null,
   "id": "af350c6c-f04f-4a00-9177-1d5826eaaef4",
   "metadata": {},
   "outputs": [],
   "source": []
  }
 ],
 "metadata": {
  "kernelspec": {
   "display_name": "Python 3 (ipykernel)",
   "language": "python",
   "name": "python3"
  },
  "language_info": {
   "codemirror_mode": {
    "name": "ipython",
    "version": 3
   },
   "file_extension": ".py",
   "mimetype": "text/x-python",
   "name": "python",
   "nbconvert_exporter": "python",
   "pygments_lexer": "ipython3",
   "version": "3.11.4"
  }
 },
 "nbformat": 4,
 "nbformat_minor": 5
}
