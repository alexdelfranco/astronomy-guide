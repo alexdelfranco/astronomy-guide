{
 "cells": [
  {
   "cell_type": "markdown",
   "id": "d3c52517-d174-4870-96f1-c34507c3f343",
   "metadata": {},
   "source": [
    "# Stellar Evolution Tutorial"
   ]
  },
  {
   "cell_type": "markdown",
   "id": "8f58bd55-e054-47d8-9aba-7a5666962a45",
   "metadata": {},
   "source": [
    "## Making a Star"
   ]
  },
  {
   "cell_type": "markdown",
   "id": "c98d1355-cbb0-4cc7-9542-9b6dc9989705",
   "metadata": {},
   "source": [
    "Open a new Desmos graph. Create a new folder called *Making a Star* and create three variables: $R$, $M$, and $p$ (we use $p$ in Desmos instead of $\\rho$). $R$ will be our star's radius, $M$ will be our star's mass, and $p$ will be our star's density. By default these are all sliders. We will start by defining our stellar radius in terms of our mass and density. What equation do you think we should use? How about:"
   ]
  },
  {
   "cell_type": "markdown",
   "id": "3f329b27-3c69-41a7-924a-8b165fcb8a68",
   "metadata": {},
   "source": [
    "$$\\rho = \\dfrac{M}{V} = \\dfrac{M}{\\dfrac{4}{3}\\pi R^3}$$"
   ]
  },
  {
   "cell_type": "markdown",
   "id": "47c754fa-d35f-4775-a879-37b72d58226b",
   "metadata": {},
   "source": [
    "If we solve the above equation for R, we find:"
   ]
  },
  {
   "cell_type": "markdown",
   "id": "44da3c73-d1ba-45d1-8549-0712ea69aa15",
   "metadata": {},
   "source": [
    "$$ R = \\left(\\dfrac{M}{\\dfrac{4}{3}\\pi \\rho}\\right)^{1/3}$$"
   ]
  },
  {
   "cell_type": "markdown",
   "id": "ce4e146c-1012-41aa-bedf-3f0952c56520",
   "metadata": {},
   "source": [
    "This is our first radius equation! Set your $R$ value equal to this. We can then plot our star by writing:"
   ]
  },
  {
   "cell_type": "markdown",
   "id": "888f4fb0-fd04-4792-9610-248088ddc112",
   "metadata": {},
   "source": [
    "$$r\\leq R$$"
   ]
  },
  {
   "cell_type": "markdown",
   "id": "92268af6-0f66-4208-9d61-3f4fa6883158",
   "metadata": {},
   "source": [
    "You now have your star! Play around with your $M$ and $\\rho$ sliders. Does the behavior of your star match your intuition? If it helps, you can set the lower bounds of your $M$ and $p$ sliders to 1."
   ]
  },
  {
   "cell_type": "markdown",
   "id": "c9446b72-e9aa-4ef3-bff3-262d5f78b717",
   "metadata": {},
   "source": [
    "## Adding Gravity"
   ]
  },
  {
   "cell_type": "markdown",
   "id": "c3fe1863-c6f1-4200-9389-3edc3ac9db6c",
   "metadata": {},
   "source": [
    "The first force we can assume is acting on our star is gravity. If we focus on a specific piece of our star, we know the acceleration that piece will feel is given by:"
   ]
  },
  {
   "cell_type": "markdown",
   "id": "047ac561-5e3a-4841-a23b-dd789e20466b",
   "metadata": {},
   "source": [
    "$$a_{grav}(r) = -\\dfrac{GM_{en}(r)}{r^2}$$"
   ]
  },
  {
   "cell_type": "markdown",
   "id": "64d3294f-5ca3-4ec9-9165-83e6ace730b2",
   "metadata": {},
   "source": [
    "where $r$ is the distance from the center of the star to our selected piece and $M_{en}(r)$ is the mass enclosed inside a sphere with radius r (in other words all the mass of the shells between our piece and the center of the star). The acceleration is negative because it is pointed inwards toward the center of the star. **Create a new folder called *Adding Gravity* and add this equation to your Desmos sheet.**"
   ]
  },
  {
   "cell_type": "markdown",
   "id": "173b5e2a-cfd9-4b7c-8579-390138c27331",
   "metadata": {},
   "source": [
    "Desmos will now be confused because although we know the total mass of our star, we don't have an expression for the enclosed mass as a function of $r$. Make a new function in the *Adding Gravity* folder called $M_{en}$. Make $M_{en}$ a function of $r$ and set it equal to an expression for the mass enclosed inside a sphere of radius $r$. You should only need the input radius and the density $p$. (You can click to the left of the funciton to turn off plotting. This way it doesn't get in the way of your star.)"
   ]
  },
  {
   "cell_type": "markdown",
   "id": "a483a788-9b11-416d-8fad-0fca752b05a8",
   "metadata": {},
   "source": [
    "Finally add a constant G and set it equal to $10^{-3}$. While this is not the real value of the gravitational constant, it will mean that time moves a bit faster in our simulation, which will be good for us in the long run."
   ]
  },
  {
   "cell_type": "markdown",
   "id": "9a09d09f-3fd0-4619-a76f-a09ef2efbf0d",
   "metadata": {},
   "source": [
    "If gravity is the only force acting on our star, it will collapse, falling in on itself until it becomes a black hole (more on that later). We can simulate this in Desmos with Actions. They will take a little time to set up, but the payoff will be enormous."
   ]
  },
  {
   "cell_type": "markdown",
   "id": "fb6b65dc-da3b-4fe5-b3c0-87d07c4cfce9",
   "metadata": {},
   "source": [
    "## Setting up Actions"
   ]
  },
  {
   "cell_type": "markdown",
   "id": "380bb9cd-ebe8-4e10-bed2-de2c9629b5e3",
   "metadata": {},
   "source": [
    "### Protecting our Variables"
   ]
  },
  {
   "cell_type": "markdown",
   "id": "df4fa45c-243b-47da-80cf-5cc2d91718a5",
   "metadata": {},
   "source": [
    "Actions change variables automatically. To make sure we keep our equations safe, we want to make sure we only write equaitons for static variables. We can start by defining an additional radius variable: $R_0$ (Define this under the *Making a Star* folder). $R_0$ will serve as our default, initial radius. This will be static and equal to our initial radius expression. $R$ will now change based on the evolution of our star. For now, set the two like this (redefine your old $R$, no need to make a new variable):"
   ]
  },
  {
   "cell_type": "markdown",
   "id": "fb7b6e80-85c5-4afc-b2ba-96fd3f423c43",
   "metadata": {},
   "source": [
    "$$ R_0 = \\left(\\dfrac{M}{\\dfrac{4}{3}\\pi \\rho}\\right)^{1/3}$$\n",
    "$$R=R_0$$"
   ]
  },
  {
   "cell_type": "markdown",
   "id": "612a387f-2cc2-447f-97b9-ffc47ee82a5e",
   "metadata": {},
   "source": [
    "### Our first Action"
   ]
  },
  {
   "cell_type": "markdown",
   "id": "19d1f9f2-6818-44ff-bffc-805d4ccb1594",
   "metadata": {},
   "source": [
    "For our initial action, we want to simulate our star collapsing under gravity. To do this, we are going to need two new variables: $d_R$ (representing a change in R) and $d_t$ (representing a change in time). Create these under a new folder called *Actions*."
   ]
  },
  {
   "cell_type": "markdown",
   "id": "eafceb93-2732-44e2-a122-083c2831003d",
   "metadata": {},
   "source": [
    "Thinking back to our kinematics equations, a particle at radius $R$ with initial velocity $0$ should change its position according to what equation? (Think how far would a particle at radius $R$ move in a time $\\Delta t$?) How about:"
   ]
  },
  {
   "cell_type": "markdown",
   "id": "c7a35ebb-a01b-41b1-8689-194737b38e59",
   "metadata": {},
   "source": [
    "$$ \\Delta R = a_{grav}(R) \\Delta t^2$$"
   ]
  },
  {
   "cell_type": "markdown",
   "id": "c2bda42c-e160-4336-a5f6-3168102f3fc0",
   "metadata": {},
   "source": [
    "where $a_{grav}(R)$ is a function of $R$. **We can implement this in Desmos by writing $\\Delta R$ as $d_R$ and making it and acceleration both functions that take in a dummy variable $r$.** If we set $d_t$ equal to $1$, we find that we have an expression for a small change in the radius due to gravity over a small period of time."
   ]
  },
  {
   "cell_type": "markdown",
   "id": "6fcf9dcb-4805-4683-b1aa-7eba0fdb0f72",
   "metadata": {},
   "source": [
    "Now we can implement our first action. (If you haven't already, enable actions by clicking the arrow next to your account name, clicking Settings, then Advanced and checking the box next to Enable Actions.) Create a new variable called $R_{un}$ and set it equal to the expression below:"
   ]
  },
  {
   "cell_type": "markdown",
   "id": "d77660cf-b923-4de0-b39c-daa82485a923",
   "metadata": {},
   "source": [
    "$$ R_{un} = R \\rightarrow R + d_R(R) $$"
   ]
  },
  {
   "cell_type": "markdown",
   "id": "a5930d37-2ebc-429a-a468-43d6496f0e5a",
   "metadata": {},
   "source": [
    "You can type a right arrow by first typing a dash and then a greater-than symbol (->). The button to the left of the cell should now resemble an arrow. Try clicking the arrow a few times. What happens? We can automate this by adding a ticker. Add a ticker using the $+$ menu. It should appear above all of your cells. In the box after the word $Run$, enter your variable $R_{un}$ and set the time to $10~ms$. Now start the clicker by clicking on the metronome button. What happens?"
   ]
  },
  {
   "cell_type": "markdown",
   "id": "948eedf8-9980-4b4d-942a-4f8aa4dc0e3b",
   "metadata": {},
   "source": [
    "You can reset the radius of your star by changing $R$ back to $R_0$. See why we created so many radius variables? We will eventually automate this reset process with another action, but for now we can just manually reset $R$."
   ]
  },
  {
   "cell_type": "markdown",
   "id": "05fa2615-6ec7-4b09-ab12-69a318829830",
   "metadata": {},
   "source": [
    "How does the speed of collapse vary with the initial mass of the star? How about with the initial density? Play around with these variables until you think you have a good idea of what is going on."
   ]
  },
  {
   "cell_type": "markdown",
   "id": "267a9035-6ecc-435f-b53b-f21938ca6158",
   "metadata": {},
   "source": [
    "## Adding Support to our Star"
   ]
  },
  {
   "cell_type": "markdown",
   "id": "bdc9a866-bde6-422e-b355-8679b1e14d51",
   "metadata": {},
   "source": [
    "Obviously stars don't immediately collapse in the real world. This is because of the inner pressure — all of their gas molecules are bumping into each other, creating a force to balance gravity. This balance is given by the equation of hydrostatic equilibrium you've seen in class:"
   ]
  },
  {
   "cell_type": "markdown",
   "id": "fb3d048c-89f6-43ab-bb5f-60e1f07c8360",
   "metadata": {},
   "source": [
    "$$\\dfrac{dP(r)}{dr}=-\\dfrac{GM(r)\\rho(r)}{r^2}$$"
   ]
  },
  {
   "cell_type": "markdown",
   "id": "d8ace9bf-9a1e-4645-89a1-709427749a06",
   "metadata": {},
   "source": [
    "This equation tells us that the pressure decreases as we move from the center of the star towards the surface. This should make intuitive sense — as you move outwards there is more star pushing you outwards than inwards. If we divide both sides of the equation by $\\rho$ (which in our case we are assuming to be a constant along with the mass $M$), we get:"
   ]
  },
  {
   "cell_type": "markdown",
   "id": "ff5ac8e1-25df-4122-9f85-4dc5159e6cfe",
   "metadata": {},
   "source": [
    "$$\\dfrac{dP(r)}{dr}\\left(\\dfrac{1}{\\rho}\\right)=-\\dfrac{GM}{r^2}$$"
   ]
  },
  {
   "cell_type": "markdown",
   "id": "09d35a4c-0a84-4805-833d-b03e13c9d3c1",
   "metadata": {},
   "source": [
    "If we rewrite $\\rho$ as the change in mass $dm$ over a change in volume $dV$ and make some semi-rigorous simplificaitons, we are left with:"
   ]
  },
  {
   "cell_type": "markdown",
   "id": "c1fb1b2a-01b0-4775-bf8b-63c675b8ae89",
   "metadata": {},
   "source": [
    "$$\\dfrac{dP(r)}{dr}\\left(\\dfrac{dV}{dm}\\right)=\\dfrac{dP(r)}{dm}\\left(\\dfrac{dV}{dr}\\right)=\\dfrac{dP(r)}{dm}\\left(A\\right)=\\dfrac{-dF(r)}{dm}=-\\dfrac{dm\\cdot a(r)}{dm}=-a(r)$$"
   ]
  },
  {
   "cell_type": "markdown",
   "id": "bec8a445-6f05-49ae-a596-d70fc02dddf2",
   "metadata": {},
   "source": [
    "That means that the acceleration due to pressure is just:"
   ]
  },
  {
   "cell_type": "markdown",
   "id": "77694a9d-ddee-4639-956f-0fb9070f9e2a",
   "metadata": {},
   "source": [
    "$$a_{P}(r)=\\dfrac{GM}{r^2}$$"
   ]
  },
  {
   "cell_type": "markdown",
   "id": "92c697d3-61a8-4715-bbe4-db15b1604e67",
   "metadata": {},
   "source": [
    "the opposite of the acceleration due to gravity! If we define a variable $a_p$ as a function of r and set it equal to the expression above, we can modify our expression for $d_R$ by adding this acceleration in addition to the acceleration due to gravity. (Make sure your units are correct!) What happens when you add this acceleration to the $d_R$ equation? Make a prediction. Were you right? How is it different than you expected?"
   ]
  },
  {
   "cell_type": "markdown",
   "id": "4b5bfccf-44bc-435d-b022-f5e0ae1ca2ab",
   "metadata": {},
   "source": [
    "## Pressure and Temperature"
   ]
  },
  {
   "cell_type": "markdown",
   "id": "33553010-39d3-4862-924b-5e9fb0f1ac63",
   "metadata": {},
   "source": [
    "Your model is now ready to incorporate temperature! We can begin by examing two of the equations of stellar structure, the familiar equation of hydrostatic equilibrium and the equation of radiative transport, given below:"
   ]
  },
  {
   "cell_type": "markdown",
   "id": "d5d22fde-8d4e-477e-afdc-f0eaec0061ac",
   "metadata": {},
   "source": [
    "$$\\dfrac{dT}{dr}=-\\dfrac{3L(r)\\kappa(r)\\rho(r)}{4\\pi r^24acT(r)^3,}$$"
   ]
  },
  {
   "cell_type": "markdown",
   "id": "9f2eeb3c-b523-4c52-8570-6368a996628c",
   "metadata": {},
   "source": [
    "where $L(r)$ is the luminosity, $\\kappa(r)$ is the opacity, $\\rho(r)$ is the density, $T(r)$ is the temperature, and the rest of the values are constants."
   ]
  },
  {
   "cell_type": "markdown",
   "id": "9883e4ff-f2cd-4cbe-a0aa-763708c9d19c",
   "metadata": {},
   "source": [
    "While it might look like a lot, we will be able to make a handful of important simplifications that will allow us to implement radiative transport into our model star! Let's start by listing what we know. We have have a few variables here that we know exact values for. At the core of the star, the enclosed mass $M(r=0)$ is $0$. The same is true for the luminosity at the center of the star $L(r=0)=0$. At the surface of the star, we know that the enclosed mass $M(r=R_\\star)$ is equal to the mass of the star $M_\\star$, and we can assume that the density at the surface $\\rho(r=R_\\star)$ is equal to $0$. This last approximation is not exactly accurate, but it is close enough for now that we can take it to be true."
   ]
  },
  {
   "cell_type": "markdown",
   "id": "29287c55-9697-412f-9d5e-0d7355a337f9",
   "metadata": {},
   "source": [
    "Let's recap what we have:"
   ]
  },
  {
   "cell_type": "markdown",
   "id": "d5f03daf-1af5-48cf-9109-f779e623f838",
   "metadata": {},
   "source": [
    "$$M(r=0)=0, \\; L(r=0)=0$$"
   ]
  },
  {
   "cell_type": "markdown",
   "id": "7f4a99c8-4fa3-4b5a-9f37-20e27d844fa4",
   "metadata": {},
   "source": [
    "$$M(r=R_\\star)=M_\\star,\\; \\rho(r=R_\\star)=0$$ "
   ]
  },
  {
   "cell_type": "markdown",
   "id": "983a21f4-082e-4403-8a68-a91d479a4290",
   "metadata": {},
   "source": [
    "Now that we have our boundary conditions, we can begin our search. We want to find an equaiton for temperature in terms of the radius that is independent of pressure, luminosity, opacity, etc. We can start by dividing the equation of hydrostatic equilibrium by the equation for radiative transport. The $dr$ elements divide out and we are left with:"
   ]
  },
  {
   "cell_type": "markdown",
   "id": "2234c3e4-0e3b-4572-bff1-df17ec9dce91",
   "metadata": {},
   "source": [
    "$$\\dfrac{dP}{dT} = \\dfrac{16\\pi ac}{3}\\dfrac{GM_s}{L_s}\\dfrac{T^3}{\\bar{\\kappa}}$$"
   ]
  },
  {
   "cell_type": "markdown",
   "id": "47446105-7e29-4fb2-892d-4caa39239dd2",
   "metadata": {},
   "source": [
    "where $M_s$ and $L_s$ are estimates of mass and luminosity at the surface of the star."
   ]
  },
  {
   "cell_type": "markdown",
   "id": "801ea49c-e0ab-4fc1-af10-9b22fb685984",
   "metadata": {},
   "source": [
    "The variable that is going to give us the most trouble here is the mean opacity, $\\bar{\\kappa}$. Technically $\\bar{\\kappa}$ is the sum of the opacities due to electron scattering, $H^-$ ions, bound-free interactions and bound-bound interactions. For our purposes, we can ignore the two former sources of opacity and focus exclusively on the latter, given by the equations below:"
   ]
  },
  {
   "cell_type": "markdown",
   "id": "3fec048d-a9b1-4a6d-baa9-7bc627d9cdf9",
   "metadata": {},
   "source": [
    "$$\\bar{\\kappa} = \\bar{\\kappa_{bf}}+\\bar{\\kappa_{ff}} = \\dfrac{A_{bf}\\rho}{T^{3.5}} + \\dfrac{A_{ff}\\rho}{T^{3.5}} = \\left(\\dfrac{\\rho}{T^{3.5}}\\right)(A_{bf}+A_{ff}) = \\left(\\dfrac{\\rho}{T^{3.5}}\\right)(A)$$"
   ]
  },
  {
   "cell_type": "markdown",
   "id": "84938117-5efe-47a4-bc13-af94a4146621",
   "metadata": {},
   "source": [
    "where $A_{bf}$ and $A_{ff}$ are experimentally determined constants and we have combined them into $A\\equiv A_{bf} + A_{ff}$."
   ]
  },
  {
   "cell_type": "markdown",
   "id": "cfb43c54-c62d-4adc-bcf8-c7de512fa7a0",
   "metadata": {},
   "source": [
    "We can now use the ideal gas law, as given below, to rewrite the density in the above equation in terms of pressure and temperature."
   ]
  },
  {
   "cell_type": "markdown",
   "id": "ed64a370-c8f9-45dc-af5c-9b97120f7ad7",
   "metadata": {},
   "source": [
    "$$P(r)=nkT(r)=\\dfrac{\\rho}{\\bar{m}}kT(r)$$"
   ]
  },
  {
   "cell_type": "markdown",
   "id": "4d049db2-2b64-4dd5-83f2-197cc1604b13",
   "metadata": {},
   "source": [
    "where $n$ is the number density and $\\bar{m}$ is the average mass of the particles in the region of the star. We can also write $\\bar{m}$ as $\\mu m_H$ where $\\mu$ is calculated from the mass fractions of different elements in the star. This will be helpful when we add fusion to our model and the ratio of $H$ to $He$ begins to change!"
   ]
  },
  {
   "cell_type": "markdown",
   "id": "bfb5f9bc-1fec-43fe-98af-0e1e74933f04",
   "metadata": {},
   "source": [
    "Solving for $\\rho$ and plugging into our equation for $\\bar{\\kappa}$, we find:"
   ]
  },
  {
   "cell_type": "markdown",
   "id": "0dd7f418-45a8-41ff-95fd-65ca54ccc44a",
   "metadata": {},
   "source": [
    "$$\\bar{\\kappa}=A\\left(\\dfrac{\\rho}{T^{3.5}}\\right)=A\\left(\\dfrac{\\mu m_HP}{kT}\\right)\\left(\\dfrac{1}{T^{3.5}}\\right) = A\\left(\\dfrac{\\mu m_HP}{kT^{4.5}}\\right)$$"
   ]
  },
  {
   "cell_type": "markdown",
   "id": "a5255878-ef3b-45e5-8ba4-d807e4359752",
   "metadata": {},
   "source": [
    "Finally, we can plug this back into our equation for $\\dfrac{dP}{dT}$:"
   ]
  },
  {
   "cell_type": "markdown",
   "id": "23902588-3f8e-4b6d-bfba-a72f8c2a6e25",
   "metadata": {},
   "source": [
    "$$\\dfrac{dP}{dT} = \\dfrac{16\\pi ac}{3}\\dfrac{GM_s}{L_s}(T^3) \\left(\\dfrac{A\\mu m_HP}{kT^{4.5}}\\right)^{-1}$$"
   ]
  },
  {
   "cell_type": "markdown",
   "id": "31030e7f-eb55-4840-9562-74bf432a39a8",
   "metadata": {},
   "source": [
    "Simplifying and grouping constants, we have:"
   ]
  },
  {
   "cell_type": "markdown",
   "id": "ed39d816-d0f2-4a94-b6bd-e0bdc77fd3a7",
   "metadata": {},
   "source": [
    "$$ \\dfrac{dP}{dT} = \\dfrac{16\\pi}{3}\\dfrac{ack}{A\\mu m_H}\\dfrac{GM_s}{L_s}\\left(\\dfrac{T^{7.5}}{P}\\right)$$"
   ]
  },
  {
   "cell_type": "code",
   "execution_count": null,
   "id": "b2f60b13-7d6f-466f-adf5-ea5a623aea2b",
   "metadata": {},
   "outputs": [],
   "source": []
  }
 ],
 "metadata": {
  "kernelspec": {
   "display_name": "Python 3 (ipykernel)",
   "language": "python",
   "name": "python3"
  },
  "language_info": {
   "codemirror_mode": {
    "name": "ipython",
    "version": 3
   },
   "file_extension": ".py",
   "mimetype": "text/x-python",
   "name": "python",
   "nbconvert_exporter": "python",
   "pygments_lexer": "ipython3",
   "version": "3.11.4"
  }
 },
 "nbformat": 4,
 "nbformat_minor": 5
}
