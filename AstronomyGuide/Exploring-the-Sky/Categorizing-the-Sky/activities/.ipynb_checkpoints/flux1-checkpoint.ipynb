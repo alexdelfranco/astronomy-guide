{
 "cells": [
  {
   "cell_type": "markdown",
   "metadata": {},
   "source": [
    "### Simple Python Math\n",
    "\n",
    "We can use Python to complete simple math equations. Addition and multiplicaion are defined with simple `+` and `*` signs. Subtraciton and division can similarly be carried out using `-` and `/`. Exponents are a little different. The sign used for exponentiation is `**` and is used as shown below."
   ]
  },
  {
   "cell_type": "code",
   "execution_count": null,
   "metadata": {},
   "outputs": [],
   "source": [
    "# Addition\n",
    "\n",
    "1+2 # 1 plus 2"
   ]
  },
  {
   "cell_type": "code",
   "execution_count": null,
   "metadata": {},
   "outputs": [],
   "source": [
    "# Multiplication\n",
    "\n",
    "2*3 # 2 times 3"
   ]
  },
  {
   "cell_type": "code",
   "execution_count": null,
   "metadata": {},
   "outputs": [],
   "source": [
    "# Exponents\n",
    "\n",
    "3**2 # This is 3 raised to the power of 2"
   ]
  },
  {
   "cell_type": "markdown",
   "metadata": {},
   "source": [
    "Change the code in the cells above to find `1024 plus 643`, `12054 divided by 98`, and `3 to the power of 7`."
   ]
  },
  {
   "cell_type": "markdown",
   "metadata": {},
   "source": [
    "Perentheses are also useful when completing longer calculations. For example, if we wanted to calculate the area of half of a circle, we could write the following: \n",
    "\n",
    "*(Note: in this activity we can use 3.14 for $\\pi$)*"
   ]
  },
  {
   "cell_type": "code",
   "execution_count": null,
   "metadata": {},
   "outputs": [],
   "source": [
    "# This is the area of half of a circle with radius 2\n",
    "\n",
    "(1/2) * (3.14 * (2 ** 2))"
   ]
  },
  {
   "cell_type": "markdown",
   "metadata": {},
   "source": [
    "### Astronomy Constants\n",
    "\n",
    "Instead of memorizing useful quantities for astrophysics (for example: the mass of the Earth or Sun, the distance between Earth and the Sun), we can use something called a Python package. A package in python is just a bunch of prewritten code and quantities that we can use for free. There are thousands of packages made for Python.\n",
    "\n",
    "We can import whichever ones we want using the `import` function. Since we want to get constants used for astronomy, we can import `astropy.constants`. We import this `as c` so that we can use the letter `c` as a shortcut to information stored in this package."
   ]
  },
  {
   "cell_type": "code",
   "execution_count": null,
   "metadata": {},
   "outputs": [],
   "source": [
    "import astropy.constants as c"
   ]
  },
  {
   "cell_type": "markdown",
   "metadata": {},
   "source": [
    "We can find the mass of the Sun by typing `c.M_sun`. Similarly, the luminosity (or brightness) of the Sun is stored as `c.L_sun`. Edit the code below to print the correct luminosity of the Sun."
   ]
  },
  {
   "cell_type": "code",
   "execution_count": null,
   "metadata": {},
   "outputs": [],
   "source": [
    "# Examples:\n",
    "\n",
    "print(f'The mass of the Sun in kilograms is {c.M_sun}')\n",
    "\n",
    "print(f'The luminosity (brightness) of the Sun is {c.YOUR CODE HERE}')"
   ]
  },
  {
   "cell_type": "markdown",
   "metadata": {},
   "source": [
    "Take a moment and consider how large that number is. A normal household lightbulb only produces around 100 Watts! How many lightbulbs is the Sun equal to? You can use the cell below to make any necessary calculations."
   ]
  },
  {
   "cell_type": "code",
   "execution_count": null,
   "metadata": {},
   "outputs": [],
   "source": [
    "# Make your calculations here\n",
    "\n"
   ]
  },
  {
   "cell_type": "markdown",
   "metadata": {},
   "source": [
    "### Calculating Flux\n",
    "\n",
    "Now think back to the equation for flux that you saw in the reading.\n",
    "\n",
    "$$F = \\frac{L}{4\\pi R^2}$$\n",
    "\n",
    "Can we use this equation to calculate the flux of the Sun at Earth?"
   ]
  },
  {
   "cell_type": "code",
   "execution_count": null,
   "metadata": {},
   "outputs": [],
   "source": [
    "# The distance from the Earth to the Sun is 1 Astronomical Unit (AU). We can find this using the constant c.au:\n",
    "\n",
    "print(f'The distance from the Earth to the Sun is {c.au}')"
   ]
  },
  {
   "cell_type": "markdown",
   "metadata": {},
   "source": [
    "Use the information you have in the cells above to find the Flux of the Sun when looked at from Earth. *(Remember never to look directly at the Sun!)*"
   ]
  },
  {
   "cell_type": "code",
   "execution_count": null,
   "metadata": {},
   "outputs": [],
   "source": [
    "# Write your expression for the flux between the curly braces\n",
    "\n",
    "print(f'The flux of the Sun at Earth is {YOUR CODE HERE}')"
   ]
  }
 ],
 "metadata": {
  "kernelspec": {
   "display_name": "Python 3 (ipykernel)",
   "language": "python",
   "name": "python3"
  },
  "language_info": {
   "codemirror_mode": {
    "name": "ipython",
    "version": 3
   },
   "file_extension": ".py",
   "mimetype": "text/x-python",
   "name": "python",
   "nbconvert_exporter": "python",
   "pygments_lexer": "ipython3",
   "version": "3.11.4"
  }
 },
 "nbformat": 4,
 "nbformat_minor": 4
}
