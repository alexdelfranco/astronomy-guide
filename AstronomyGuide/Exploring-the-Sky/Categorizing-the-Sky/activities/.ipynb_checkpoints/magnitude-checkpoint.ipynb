{
 "cells": [
  {
   "cell_type": "markdown",
   "id": "faab18de-8d45-430b-bb22-cc6bec3eef92",
   "metadata": {},
   "source": [
    "### Caclulating Magnitudes\n",
    "\n",
    "To better understand the magnitude system, let's use our magnitude equations to find the distance to the stars you saw in the image taken from the Hubble Space Telescope!"
   ]
  },
  {
   "cell_type": "markdown",
   "id": "932c0c93-175c-4cfa-847a-59f8da4328ca",
   "metadata": {},
   "source": [
    "<img src=\"https://cdn.esahubble.org/archives/images/screen/heic1509a.jpg\" alt=\"Westerlund 2\" width=\"600\"/>"
   ]
  },
  {
   "cell_type": "markdown",
   "id": "9f77d7ef-dc08-48f2-abab-06feec5e0d97",
   "metadata": {},
   "source": [
    "First we need to find some information about the stars. We can import a catalog of all the stars and their locations by running the code below."
   ]
  }
 ],
 "metadata": {
  "kernelspec": {
   "display_name": "Python 3 (ipykernel)",
   "language": "python",
   "name": "python3"
  },
  "language_info": {
   "codemirror_mode": {
    "name": "ipython",
    "version": 3
   },
   "file_extension": ".py",
   "mimetype": "text/x-python",
   "name": "python",
   "nbconvert_exporter": "python",
   "pygments_lexer": "ipython3",
   "version": "3.11.4"
  }
 },
 "nbformat": 4,
 "nbformat_minor": 5
}
