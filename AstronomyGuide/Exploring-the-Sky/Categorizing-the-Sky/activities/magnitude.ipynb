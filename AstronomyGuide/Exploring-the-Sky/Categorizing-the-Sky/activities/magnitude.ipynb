{
 "cells": [
  {
   "cell_type": "markdown",
   "id": "faab18de-8d45-430b-bb22-cc6bec3eef92",
   "metadata": {},
   "source": [
    "### Caclulating Magnitudes\n",
    "\n",
    "To better understand the magnitude system, let's use our magnitude equations to find the distance to the stars you saw in the image taken from the Hubble Space Telescope!"
   ]
  },
  {
   "cell_type": "markdown",
   "id": "932c0c93-175c-4cfa-847a-59f8da4328ca",
   "metadata": {},
   "source": [
    "<img src=\"https://cdn.esahubble.org/archives/images/screen/heic1509a.jpg\" alt=\"Westerlund 2\" width=\"600\"/>"
   ]
  },
  {
   "cell_type": "markdown",
   "id": "9f77d7ef-dc08-48f2-abab-06feec5e0d97",
   "metadata": {},
   "source": [
    "First we need to find some information about the stars. We can import a catalog of all the stars and their locations by running the code below."
   ]
  },
  {
   "cell_type": "code",
   "execution_count": null,
   "id": "1ae9db70-ef80-456a-a863-b7a24aaf915a",
   "metadata": {},
   "outputs": [],
   "source": [
    "m = 15; p = 0.000209; d = 1/p\n",
    "M = m-5*np.log10(d/10)\n",
    "print(f'M is {M}')\n",
    "L = 10**(-M/2.512)*Lo/Lsun\n",
    "print(f'L is {L} Lsun')\n",
    "F = L/(4*np.pi*d**2)\n",
    "F"
   ]
  },
  {
   "cell_type": "code",
   "execution_count": null,
   "id": "fe897ae1-ed54-4351-8b5d-7910f97eefac",
   "metadata": {},
   "outputs": [],
   "source": [
    "Lsun * 10^(-M/2.512) = L"
   ]
  }
 ],
 "metadata": {
  "kernelspec": {
   "display_name": "Python 3 (ipykernel)",
   "language": "python",
   "name": "python3"
  },
  "language_info": {
   "codemirror_mode": {
    "name": "ipython",
    "version": 3
   },
   "file_extension": ".py",
   "mimetype": "text/x-python",
   "name": "python",
   "nbconvert_exporter": "python",
   "pygments_lexer": "ipython3",
   "version": "3.11.4"
  }
 },
 "nbformat": 4,
 "nbformat_minor": 5
}
