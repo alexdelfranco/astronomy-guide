{
 "cells": [
  {
   "cell_type": "markdown",
   "id": "1af8d910-8122-4a53-bc09-f1003961c444",
   "metadata": {},
   "source": [
    "# Making a Fusing Star"
   ]
  },
  {
   "cell_type": "markdown",
   "id": "83605c50-9fb1-4bf9-b71f-9ea021a815b3",
   "metadata": {},
   "source": [
    "In this lab we are going to create a star in Desmos and add fusion to its core!"
   ]
  },
  {
   "cell_type": "markdown",
   "id": "ae6bfb1a-71aa-4779-90ac-b4c6d7913d5c",
   "metadata": {},
   "source": [
    "## Setup"
   ]
  },
  {
   "cell_type": "markdown",
   "id": "6d1cc59b-8053-482d-9e5d-8b8261dd4ba4",
   "metadata": {},
   "source": [
    "In a new tab, go to Desmos.com and click on the Graphing Calculator button. If you already have a Desmos account, login. If you don't have one yet, make one. Desmos runs entirely in your browser, so it doesn't autosave. Try to click the save button every few minutes to make sure your progress doesn't get lost."
   ]
  },
  {
   "cell_type": "markdown",
   "id": "e20f8782-86e3-42a2-b638-e04fa3220850",
   "metadata": {},
   "source": [
    "In your new Graphing Calculator page, click the $+$ sign towards the top right of your screen. **Add a new folder and call it *Star Properties*.** This is where we will add our first expressions. Click the *Save* button and name your graph \"ICA7 - {your names}\"."
   ]
  },
  {
   "cell_type": "markdown",
   "id": "09c49a19-211b-4ff9-98f4-4609def50213",
   "metadata": {},
   "source": [
    "## Creating a Star"
   ]
  },
  {
   "cell_type": "markdown",
   "id": "7c809a58-8fa7-4060-b507-0d2ad6994b92",
   "metadata": {},
   "source": [
    "We are now going to create our star! Start by defining three constants: the mass $M$ of our star (in solar masses), the density $p$ of our star, and the radius $R$ of our star. You can begin by setting these values to 1."
   ]
  },
  {
   "cell_type": "markdown",
   "id": "ee90424e-f2f6-424c-b1ff-16978465bdb1",
   "metadata": {},
   "source": [
    "$$M=1$$\n",
    "$$p=1$$\n",
    "$$R=1$$"
   ]
  },
  {
   "cell_type": "markdown",
   "id": "63151491-ee3e-43a5-9e3f-c537b4c79780",
   "metadata": {},
   "source": [
    "**Add these expressions to your Star Properties folder.**"
   ]
  },
  {
   "cell_type": "markdown",
   "id": "62189a56-76b4-402a-af63-bfaa56b167f9",
   "metadata": {},
   "source": [
    "We can plot our star by writing an equation in polar coordinates:"
   ]
  },
  {
   "cell_type": "markdown",
   "id": "8ab731fd-5951-4a85-8679-20735e1ffbe4",
   "metadata": {},
   "source": [
    "$$r\\leq R$$"
   ]
  },
  {
   "cell_type": "markdown",
   "id": "d6a00c8c-71e2-43e2-baee-ad3f2666a2b2",
   "metadata": {},
   "source": [
    "**Add this expression to a new folder called \"Plotting\".** We now have a star with a constant radius! That is great, but we can do better. **Change your expression for $R$ to be in terms of the star's mass $M$ and its density $p$.**"
   ]
  },
  {
   "cell_type": "markdown",
   "id": "7815f5b2-93ec-44d9-be09-79e88591bd51",
   "metadata": {},
   "source": [
    "Now try varying your star's mass and density. Think about how it visually changes. *Does it make sense? Does it follow what you expect?* **Add a new folder called \"Responses\" and move it all the way at the bottom of your expression list. Add a note ($+$ menu and then \"note\") and write $1$ sentence in response to the questions.**"
   ]
  },
  {
   "cell_type": "markdown",
   "id": "0b0ae0d2-2af0-448d-8bef-6e7b0e7642a2",
   "metadata": {},
   "source": [
    "### Estimating Luminosity"
   ]
  },
  {
   "cell_type": "markdown",
   "id": "9b844341-cd57-4d3c-b067-8d98abd6c726",
   "metadata": {},
   "source": [
    "It turns out that in addition to mass, density, and radius, we need one more value of our model star: its Luminosity. But how can we possibly know its luminosity? the only equation we have for it depends on $\\epsilon(r)$ but that seems even harder to calculate! It turns out that we can make a key assumption here that will make our lives incredibly easy. For main sequence stars, we can approximate luminosity as related to mass by:"
   ]
  },
  {
   "cell_type": "markdown",
   "id": "22f42b24-090f-46a1-94ad-45a7e9c4c31e",
   "metadata": {},
   "source": [
    "$$L\\sim M^4$$"
   ]
  },
  {
   "cell_type": "markdown",
   "id": "d0a38140-cea8-4ae2-a0b7-8a5482aaf7d8",
   "metadata": {},
   "source": [
    "where $\\sim$ is read as \"scales as\" and implies that $L$ is equal to $M^4$ times some constant (for the purposes of this lab we assume the constant to be 1). **Add this equaiton to your Star Properties folder**"
   ]
  },
  {
   "cell_type": "markdown",
   "id": "3ced6f2e-9c7f-4e37-83e0-f3b80e4f34b4",
   "metadata": {},
   "source": [
    "## Adding Fusion"
   ]
  },
  {
   "cell_type": "markdown",
   "id": "7a23e789-328c-4917-8b5c-ff50a1df1a05",
   "metadata": {},
   "source": [
    "### Mass Deficit"
   ]
  },
  {
   "cell_type": "markdown",
   "id": "aec205cd-930a-4149-813e-e28444e482e0",
   "metadata": {},
   "source": [
    "Fusion occurs at the core of the star. The simplest level of fusion is the combination of $4$ Hydrogen atoms into one helium nucleus. When that process occurs, it turns out that some of the initial mass of the $4$ Hydrogen atoms is turned into energy through the famous equaiton you all know: $E=mc^2$!"
   ]
  },
  {
   "cell_type": "markdown",
   "id": "0edb12c6-7ff4-49b0-ad14-24487f844adc",
   "metadata": {},
   "source": [
    "We can verify this is the case by examining the mass of $4$ Hydrogen atoms to a single Helium atom. The difference in mass between these two quantities must be the amount that is turned into energy! **Create a new desmos folder called \"Constants\" and add the values below.** (You can add subscripts to variables using an underscore \"_\")."
   ]
  },
  {
   "cell_type": "markdown",
   "id": "5d8735c8-60b6-48f7-8aef-b07f2a80037b",
   "metadata": {},
   "source": [
    "$$m_p=1.67262\\cdot10^{-27}$$\n",
    "$$m_{He}=6.6447\\cdot10^{-27}$$"
   ]
  },
  {
   "cell_type": "markdown",
   "id": "9d348ecc-e222-44ac-86e5-e8e18d7fa849",
   "metadata": {},
   "source": [
    "where both of these values are measured in $kg$. This will be important in the future when we have to convert our energy into solar masses. We can then calculate the mass deficit to be:"
   ]
  },
  {
   "cell_type": "markdown",
   "id": "3cd23527-f21b-49a0-81f4-0afe098971f5",
   "metadata": {},
   "source": [
    "$$m_{def}=(4m_p-m_{He})$$"
   ]
  },
  {
   "cell_type": "markdown",
   "id": "f3c4bf5d-798e-4b18-98a4-0cff0f063971",
   "metadata": {},
   "source": [
    "**Add this equation to a new folder called \"Fusion\".**"
   ]
  },
  {
   "cell_type": "markdown",
   "id": "5b1c0f38-1fe5-4776-a660-0efce876c4bc",
   "metadata": {},
   "source": [
    "While we are adding constants, we can input 3 more which will be useful in a bit. **To you Constants folder, add:**"
   ]
  },
  {
   "cell_type": "markdown",
   "id": "b629f56d-cf2d-467d-a84d-2535fad9c3d5",
   "metadata": {},
   "source": [
    "$$m_{sun}=2\\cdot10^{30}$$\n",
    "$$L_{sun}=3.83\\cdot10^{26}$$\n",
    "$$c=3\\cdot10^{8}$$"
   ]
  },
  {
   "cell_type": "markdown",
   "id": "fd13eb72-88b6-4d61-93e5-08764085d018",
   "metadata": {},
   "source": [
    "where $m_{sun}$ and $L_{sun}$ are the mass and luminosity of the Sun and $c$ is the speed of light. All 3 of these are expressed in SI units. The first two of these will be used as conversion factors soon."
   ]
  },
  {
   "cell_type": "markdown",
   "id": "b6040ad8-8bd1-4530-9a80-842360c43778",
   "metadata": {},
   "source": [
    "### Energy of Fusion"
   ]
  },
  {
   "cell_type": "markdown",
   "id": "8033d808-7fa2-44cc-b562-359c385522ae",
   "metadata": {},
   "source": [
    "We ultimately want to find how many fusion reactions are occuring per second inside a star like the sun. Begin by making a guess: each person in your group should come up with a number. Why did you make that guess? How surprised would you be if you were wrong?"
   ]
  },
  {
   "cell_type": "markdown",
   "id": "a06247c0-2400-4f13-8978-3baf14ac4285",
   "metadata": {},
   "source": [
    "We can begin our journey towards our star's reaciton rate by calculating the energy generated by a single fusion reaction:"
   ]
  },
  {
   "cell_type": "markdown",
   "id": "5f269a34-32a7-41e8-978d-eaf63c4720f1",
   "metadata": {},
   "source": [
    "$$E_f=m_{def}\\cdot c^2$$"
   ]
  },
  {
   "cell_type": "markdown",
   "id": "fcacd1d0-3a74-459c-9922-eb3e6bf89122",
   "metadata": {},
   "source": [
    "where $E_f$ is the energy released by a single fusion reaction and $m_{def}$ is the mass deficit from the fusion reaction. **Input this equation under your Fusion folder.**"
   ]
  },
  {
   "cell_type": "markdown",
   "id": "2f4a4022-f72a-4348-aa5c-98377162aa08",
   "metadata": {},
   "source": [
    "### Reaction Rate"
   ]
  },
  {
   "cell_type": "markdown",
   "id": "6df76133-97aa-457b-a24c-800db8ccd3fd",
   "metadata": {},
   "source": [
    "We are almost there! Now we know how much energy is being released in a single fusion reaction. If we can relate that energy to the total energy output of the star, we can identify how many reactions are occuring. Thankfully, we know how much energy our star is releasing every second: our Luminosity $L$! If we divide our luminosity by our energy per fusion reaction, we are left with a reaction rate:"
   ]
  },
  {
   "cell_type": "markdown",
   "id": "9d712582-8659-4238-bb4e-ba807b2896c1",
   "metadata": {},
   "source": [
    "$$n_{reactions}=\\dfrac{L}{E_{f}}$$"
   ]
  },
  {
   "cell_type": "markdown",
   "id": "9c756f38-a605-40bf-84ca-c1e98c363b23",
   "metadata": {},
   "source": [
    "Wait! We must be careful here! These values have different units!! $L$ is in multiples of solar luminosity and $E_f$ is in Joules. Thankfully, we can correct our units by multiplying by our conversion factor $L_{sun}$ we added earlier. Finally we have our reaction rate (telling us the number of fusion reacitons per second inside our star):"
   ]
  },
  {
   "cell_type": "markdown",
   "id": "722d3337-b090-47f9-ae13-71cc09294c34",
   "metadata": {},
   "source": [
    "$$n_{reactions}=\\dfrac{L\\cdot L_{sun}}{E_{f}}$$"
   ]
  },
  {
   "cell_type": "markdown",
   "id": "c0552036-7ea3-40b2-8dab-3d0d4f978774",
   "metadata": {},
   "source": [
    "**Add this equation to your Fusion folder.** Play around with the mass and density of your star. *How does it change the fusion rate? Why? Which one of your equations causes this change?* **Add a $1$ sentence note asnwering these questions in your Responses folder.**"
   ]
  },
  {
   "cell_type": "markdown",
   "id": "3eddf8de-0251-49e8-8c1b-e2fe015148d8",
   "metadata": {},
   "source": [
    "## Modeling"
   ]
  },
  {
   "cell_type": "markdown",
   "id": "736c0364-822f-4c06-add3-6947410914cf",
   "metadata": {},
   "source": [
    "### Keeping Track of our Helium"
   ]
  },
  {
   "cell_type": "markdown",
   "id": "84d87daa-8ecf-45a3-946f-59686ca27078",
   "metadata": {},
   "source": [
    "Now that we know how many reactions are happening per second, we can calculate the number of Helium atoms in our star at a given time. If we know the number of Helium atoms, we can calculate the total mass of Helium as well! To start, let us set the number of Helium atoms $n_{He}$ to $0$ and then write the mass of Helium $M_{He}$ in terms of $n_{He}$:"
   ]
  },
  {
   "cell_type": "markdown",
   "id": "7320f721-b8c9-4b29-b7bb-f6f291d638c8",
   "metadata": {},
   "source": [
    "$$n_{He} = 0$$\n",
    "$$M_{He} = \\dfrac{n_{He}\\cdot m_{He}}{m_{sun}}$$"
   ]
  },
  {
   "cell_type": "markdown",
   "id": "e291a2f3-97c7-4483-b744-52ec5f24b97b",
   "metadata": {},
   "source": [
    "where we have divided $M_{He}$ by our conversion constant $m_{sun}$ so that it is counted in units of solar masses. **Add $n_{He}$ under your Fusion folder and $M_{He}$ under your Stellar Properties folder.**"
   ]
  },
  {
   "cell_type": "markdown",
   "id": "b78ff2ca-6a5e-4a61-be18-ff354398e073",
   "metadata": {},
   "source": [
    "Since all of the fusion is happening at the core of the star, we can determine the radius of the core using $M_{He}$, using an equation similar to how we determined $R$. We can then plot the core using a similar inequality:"
   ]
  },
  {
   "cell_type": "markdown",
   "id": "f9cae1bf-b049-4500-b618-ed0c8769fc8e",
   "metadata": {},
   "source": [
    "$$R_{core} = \\left(\\frac{3}{4\\pi}\\frac{M_{He}}{p}\\right)^{\\frac{1}{3}}$$"
   ]
  },
  {
   "cell_type": "markdown",
   "id": "b0e0fcc3-31dd-48f3-966d-9297b296396a",
   "metadata": {},
   "source": [
    "$$r\\leq R_{core}$$"
   ]
  },
  {
   "cell_type": "markdown",
   "id": "8506cf9c-be92-4d5d-9aaa-11125f9113a8",
   "metadata": {},
   "source": [
    "**Add the first equation to your Stellar Properties folder and add the second to your Plotting folder.** If you now change $n_{He}$ you should see the core of your star plotted! One more section and we will have our complete model!"
   ]
  },
  {
   "cell_type": "markdown",
   "id": "f6897f96-a7b0-49f3-ae24-138b7b22888e",
   "metadata": {},
   "source": [
    "## Creating a Simulation"
   ]
  },
  {
   "cell_type": "markdown",
   "id": "c7f4eb98-3dba-4753-9db9-68d0d3cf0700",
   "metadata": {},
   "source": [
    "For our simulation of fusion, we will need to keep track of time. We do this in two stages. First, we define a constant $\\Delta t$ which measures the number of seconds we simulate in each step of our simulation (a bigger $\\Delta t$ means our simulation runs faster). We then have a varibale $N$ which counts how many steps our iteration has run. The product of $\\Delta t$ and $N$ gives the number of seconds that our star has lived since the beginning of the simulation."
   ]
  },
  {
   "cell_type": "markdown",
   "id": "ec4f6655-18c7-4812-9240-75f17137e82a",
   "metadata": {},
   "source": [
    "We will add $\\Delta t$ in Desmos as $d_t$. We will initially set our simulation to run in time steps of $10,000$ years, but you may want to increase or decrease this later if you want your simulation to run slower or faster. Since $d_t$ is measured in seconds and $N$ starts at $0$, we can write them as:"
   ]
  },
  {
   "cell_type": "markdown",
   "id": "dabf3d47-e58c-4ff6-832c-f7cbe85d93b9",
   "metadata": {},
   "source": [
    "$$d_t=10^4\\cdot\\left(3\\cdot10^7\\right)$$\n",
    "$$N=0$$"
   ]
  },
  {
   "cell_type": "markdown",
   "id": "2bc7e218-5dd0-489b-8ed3-c72a20bad41f",
   "metadata": {},
   "source": [
    "where we have estimated the number of seconds in a year to be $3\\cdot 10^7$. **Add these equations to a new folder called \"Simulation\".**"
   ]
  },
  {
   "cell_type": "markdown",
   "id": "d9be15d9-899d-4f38-9156-f6844fa5f009",
   "metadata": {},
   "source": [
    "Now we can add our actions! Begin by saving your Desmos graph. We now want to enable actions. Click your name, then Account Settings, then the Advanced tab. Check the button next to Actions. We now have access to advanced Desmos features!"
   ]
  },
  {
   "cell_type": "markdown",
   "id": "cdadcc1d-7684-4f14-9875-6a5fa60e852f",
   "metadata": {},
   "source": [
    "We will create two actions. One to run our simulation and one to reset it. To run our simulation, we want to add the number of $He$ atoms to $n_{He}$ that have formed in our last time step. The number of atoms fused is just our reaction rate $n_{reactions}$ times our change in time $d_t$! We also want to keep track that our simulation ran once, so we incredment $N$ by $1$. We will call this action $R_{un}$:"
   ]
  },
  {
   "cell_type": "markdown",
   "id": "45df5536-b13f-42e0-a008-59f9ebaa2582",
   "metadata": {},
   "source": [
    "$$R_{un}=n_{He}\\to n_{He}+n_{reactions}\\cdot d_{t},N\\to N+1$$"
   ]
  },
  {
   "cell_type": "markdown",
   "id": "97c89e79-0f14-4346-ba9c-f67e9a7a97d2",
   "metadata": {},
   "source": [
    "You can write arrows by typing a dash followed by a greater than symbol ($->$). **Add this expression to your Simulation folder.** Once you have typed this into Desmos, you should see an arrow appear to the left of the expression. Try clicking it. Do you understand what is happening?"
   ]
  },
  {
   "cell_type": "markdown",
   "id": "4de54491-4ba0-4382-afba-9f637928a579",
   "metadata": {},
   "source": [
    "We can make this run automatically by adding a ticker. Click the $+$ button and click ticker. It should show up right below the plus sign. Enter $R_{un}$ into the first box and set the time increment to $10~ms$. Now when you click the metronome icon, your simulation should run!!"
   ]
  },
  {
   "cell_type": "markdown",
   "id": "cfa1cf62-b378-4cc7-b476-d66c5e2ad87d",
   "metadata": {},
   "source": [
    "*Note: If your simulation seems to be taking too long to run, increase the value of $d_t$!*"
   ]
  },
  {
   "cell_type": "markdown",
   "id": "78403149-77a3-4caf-8248-42172f8f2e4c",
   "metadata": {},
   "source": [
    "One last expression. Similar to our $R_{un}$ definition, we can define $R_{eset}$ to reset our simulation. If we set $n_{he}$ and $N$ back to $0$, our simulation is ready for another run. **Add the following equation to your Simulation folder:**"
   ]
  },
  {
   "cell_type": "markdown",
   "id": "fed64240-860d-4b8f-903c-4c67e59fb173",
   "metadata": {},
   "source": [
    "$$R_{eset}=n_{He}\\to0,N\\to0$$"
   ]
  },
  {
   "cell_type": "markdown",
   "id": "3d325ff0-b00c-4ff9-9eca-7597217759c8",
   "metadata": {},
   "source": [
    "If you click the arrow to the left of $R_{eset}$ your simulation should reset. You can make this easier by adding a cell all the way at the top of your expression list, above all of your folders. If you type $R_{eset}$ into that cell, you should be able to reset your simulation without going into your folders.,"
   ]
  },
  {
   "cell_type": "markdown",
   "id": "dda87818-ca8b-4773-b38b-d5f9f910656d",
   "metadata": {},
   "source": [
    "Congrats! You have made a simulation of a fusing star! That's pretty cool! Play around a bit, see if everything works like you expect. Then answer a few questions below."
   ]
  },
  {
   "cell_type": "markdown",
   "id": "3d4252ff-a991-4376-91e2-fa8219ea9adc",
   "metadata": {},
   "source": [
    "# Using our Model"
   ]
  },
  {
   "cell_type": "markdown",
   "id": "b9ba262c-9c29-4eec-b9d1-bed2f4a0c604",
   "metadata": {},
   "source": [
    "## Stellar Lifetimes"
   ]
  },
  {
   "cell_type": "markdown",
   "id": "33e57bd5-481d-4a95-9d89-224f839ad593",
   "metadata": {},
   "source": [
    "Stars fuse about 10% of their H before they move off the Main Sequence. Pause your simulation when $M_{He}$ is about $10\\%$ of $M$. How much time has passed? (Use d_t and N to calculate the time. Remember d_t is measured in seconds.) *Does that value make sense?* We call this value the star's lifetime.\n",
    "\n",
    "**Set the density of your star to $1$. Create a table inside a new folder called \"Stellar Lifetimes\" and record the initial mass of your star and its lifetime (add a table by clicking the + and then table).** Reset your simulation, change your initial mass, and try again. Add five entries to your table. *How does the lifetime change for different initial masses?* **Add a final note to your Responses folder answering these questions in a few sentences.**"
   ]
  },
  {
   "cell_type": "markdown",
   "id": "7beb9a66-adf5-400e-9cba-e4e80840d4ce",
   "metadata": {},
   "source": [
    "Your last instruction is to give yourself a pat on the back! This was a long lab but hopefully you had a bit of fun! You made an accurate numerical simulation of nuclear fusion! Maybe it's just me, but I think that's pretty cool :) "
   ]
  }
 ],
 "metadata": {
  "kernelspec": {
   "display_name": "Python 3 (ipykernel)",
   "language": "python",
   "name": "python3"
  },
  "language_info": {
   "codemirror_mode": {
    "name": "ipython",
    "version": 3
   },
   "file_extension": ".py",
   "mimetype": "text/x-python",
   "name": "python",
   "nbconvert_exporter": "python",
   "pygments_lexer": "ipython3",
   "version": "3.11.4"
  }
 },
 "nbformat": 4,
 "nbformat_minor": 5
}
